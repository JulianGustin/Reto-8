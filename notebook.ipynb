{
 "cells": [
  {
   "cell_type": "markdown",
   "metadata": {},
   "source": [
    "# Reto 8 programación de computadores\n",
    "\n",
    "***\n",
    "\n",
    "### 1. Imprimir un listado con los números del 1 al 100 cada uno con su respectivo cuadrado.\n"
   ]
  },
  {
   "cell_type": "code",
   "execution_count": null,
   "metadata": {},
   "outputs": [],
   "source": [
    "#Definir variables\n",
    "n : int = 1\n",
    "\n",
    "if __name__ == \"__main__\":\n",
    "    for n in range(1, 101): #Iterar sobre los numeros del 1 al 100\n",
    "        print(n) #Imprimir el numero\n",
    "        print(f\"El cuadrado de {n} es\", (n**2)) #Imprimir el cuadrado del numero\n"
   ]
  },
  {
   "cell_type": "markdown",
   "metadata": {},
   "source": [
    "***\n",
    "### 2. Imprimir un listado con los números impares desde 1 hasta 999 y seguidamente otro listado con los números pares desde 2 hasta 1000."
   ]
  },
  {
   "cell_type": "code",
   "execution_count": null,
   "metadata": {},
   "outputs": [],
   "source": [
    "#Definir variables\n",
    "i : int = 1\n",
    "p : int = 2\n",
    "\n",
    "if __name__ == \"__main__\":\n",
    "    print(\"Lista de números impares de 1 a 999\")\n",
    "    for i in range(1, 1000, 2): #Inicia en 1, termina en 999 de 2 en 2\n",
    "        print (i)\n",
    "    print(\"Lista de números pares de 2 a 1000\") \n",
    "    for p in range(2, 1001, 2): #Inicia en 2, termina en 1000 de 2 en 2\n",
    "        print (p)"
   ]
  },
  {
   "cell_type": "markdown",
   "metadata": {},
   "source": [
    "***\n",
    "### 3. Imprimir los números pares en forma descendente hasta 2 que son menores o iguales a un número natural n ≥ 2 dado"
   ]
  },
  {
   "cell_type": "code",
   "execution_count": null,
   "metadata": {},
   "outputs": [],
   "source": [
    "#Definir variables\n",
    "n = int(input(\"Ingrese un número natural mayor a 2: \"))\n",
    "if n < 2:\n",
    "    print(\"Su número es menor a 2.\")\n",
    "\n",
    "i : int = 1\n",
    "\n",
    "if __name__ == \"__main__\":\n",
    "    if n % 2 == 0: #Para n par\n",
    "        for i in range(n, 1, -2): #Rango desde n hasta 1 (sin contar el 1) restando 2 en cada iteración\n",
    "            print(i)\n",
    "    else: \n",
    "        for i in range((n-1), 1, -2): #Restar 1 a n para que sea par\n",
    "            print(i)"
   ]
  },
  {
   "cell_type": "markdown",
   "metadata": {},
   "source": [
    "***\n",
    "### 4. Imprimir los números de 1 hasta un número natural n dado, cada uno con su respectivo factorial"
   ]
  },
  {
   "cell_type": "code",
   "execution_count": null,
   "metadata": {},
   "outputs": [],
   "source": [
    "# Definir variables\n",
    "n = int(input(\"Ingrese un número natural: \"))\n",
    "i : int = 1\n",
    "resultado = 1\n",
    "\n",
    "if __name__ == \"__main__\":\n",
    "    for i in range(1, (n+1)):\n",
    "        resultado *= i #Multiplicar resultado por el numero actual\n",
    "        print (f\"{i}!={resultado}\") #Imprimir numero y su factorial"
   ]
  },
  {
   "cell_type": "markdown",
   "metadata": {},
   "source": [
    "***\n",
    "### 5. Calcular el valor de 2 elevado a la potencia n usando ciclos for.\n"
   ]
  },
  {
   "cell_type": "code",
   "execution_count": null,
   "metadata": {},
   "outputs": [],
   "source": [
    "#Definir variables\n",
    "n= int(input(\"Ingrese un número natural: \"))\n",
    "i : int = 1 \n",
    "r : int = 1\n",
    "\n",
    "if __name__ == \"__main__\":\n",
    "    for i in range (n):  #Iterar hasta n-1\n",
    "        r *= 2 #Multiplicar r por 2 en cada iteración\n",
    "    print(f\"2 elevado a {n} es igual a {r}\")"
   ]
  },
  {
   "cell_type": "markdown",
   "metadata": {},
   "source": [
    "***\n",
    "### 6. Leer un número natural n, leer otro dato de tipo real x y calcular x^n usando ciclos for. Disclaimer: Trate de no utilizar el operador de potencia (**).\n"
   ]
  },
  {
   "cell_type": "code",
   "execution_count": null,
   "metadata": {},
   "outputs": [],
   "source": [
    "#Definir variables\n",
    "x = float(input(\"Ingrese un número real(base): \"))\n",
    "n = int(input(\"Ingrese un número natural (potencia): \"))\n",
    "r : int = 1\n",
    "\n",
    "if __name__ == \"__main__\": \n",
    "    for i in range (n):\n",
    "        r *= x # Multiplicar x por r n veces\n",
    "    print(f\"{x} elevado a {n} es igual a {r}\")"
   ]
  },
  {
   "cell_type": "markdown",
   "metadata": {},
   "source": [
    "***\n",
    "### 7. Diseñe un programa que muestre las tablas de multiplicar del 1 al 9."
   ]
  },
  {
   "cell_type": "code",
   "execution_count": null,
   "metadata": {},
   "outputs": [],
   "source": [
    "#Definir variables\n",
    "i : int = 1\n",
    "t : int = 1\n",
    "r : int = 1\n",
    "if __name__ == \"__main__\": \n",
    "    for i in range (1,10): #Numeros del 1 al 9\n",
    "        print(f\"Tabla de {i}\")\n",
    "        for t in range (1,11): # Números del 1 al 10\n",
    "            r = i*t # Multiplica los numeros i por los números t en cada iteración \n",
    "            print(f\"{i} * {t} = {r}\") \n",
    "\n",
    "        "
   ]
  },
  {
   "cell_type": "markdown",
   "metadata": {},
   "source": [
    "***\n",
    "### 8. Diseñar una función que permita calcular una aproximación de la función exponencial alrededor de 0 para cualquier valor x (real), utilizando los primeros n términos de la serie de Maclaurin. Nota: use math para traer la función exponencial y mostrar la diferencia entre el valor real y la aproximación."
   ]
  },
  {
   "cell_type": "markdown",
   "metadata": {},
   "source": [
    "#### Funcion factorial\n"
   ]
  },
  {
   "cell_type": "code",
   "execution_count": null,
   "metadata": {},
   "outputs": [],
   "source": [
    "# Definir función factorial\n",
    "def factorial(n: int):\n",
    "    if n == 0:\n",
    "        return 1\n",
    "    else:\n",
    "        return n * factorial(n - 1)"
   ]
  },
  {
   "cell_type": "code",
   "execution_count": null,
   "metadata": {},
   "outputs": [],
   "source": [
    "import math \n",
    "import funcion_factorial\n",
    "\n",
    "# Definir e inicializar variables\n",
    "x = float(input(\"Ingrese un número real: \"))\n",
    "n : int = 20\n",
    "valor_real = math.exp(x)  # Calcular valor real de la función\n",
    "    \n",
    "# Definir funcion aproximación\n",
    "def aprox_exponencial(n:int, x:float):\n",
    "    aprox = 0\n",
    "    for i in range(n):\n",
    "        aprox += (x**i) / funcion_factorial.factorial(i)  # Calcular valor aproximado usando serie de Maclaurin\n",
    "    print(f\"El valor aproximado es {aprox}\")\n",
    "    \n",
    "    print(\"El valor real de la función exponencial es: \", valor_real)\n",
    "    if aprox > valor_real:\n",
    "        print(f\"La diferencia es de {aprox - valor_real}\")  # Calcular la diferencia\n",
    "    else:\n",
    "        print(f\"La diferencia es de {valor_real - aprox}\")\n",
    "\n",
    "\n",
    "\n",
    "if __name__ == \"__main__\":\n",
    "    aprox_exponencial(n,x)\n"
   ]
  },
  {
   "cell_type": "markdown",
   "metadata": {},
   "source": [
    "***\n",
    "### 9. Diseñar una función que permita calcular una aproximación de la función seno alrededor de 0 para cualquier valor x (real), utilizando los primeros n términos de la serie de Maclaurin. Nota: use math para traer la función seno y mostrar la diferencia entre el valor real y la aproximación."
   ]
  },
  {
   "cell_type": "code",
   "execution_count": null,
   "metadata": {},
   "outputs": [],
   "source": [
    "import math \n",
    "import funcion_factorial\n",
    "\n",
    "# Definir e inicializar variables\n",
    "x = float(input(\"Ingrese un número real: \"))\n",
    "n : int = 20\n",
    "aprox : float = 0\n",
    "\n",
    "# Definir funcion aproximación seno\n",
    "def aprox_seno(n, x):\n",
    "    aprox = 0\n",
    "    for i in range(n):\n",
    "        #Definir las partes de la función\n",
    "        c = (-1)**i\n",
    "        n = x**(2*i+1)\n",
    "        d = funcion_factorial.factorial(2*i+1)\n",
    "        aprox += c * (n/d)  # Calcular valor aproximado usando serie de Maclaurin\n",
    "    print(f\"El valor aproximado es {aprox}\")\n",
    "    \n",
    "    valor_real = math.sin(x)  # Calcular valor real de la función\n",
    "    print(\"El valor real de la función seno es: \", valor_real)\n",
    "    print(f\"La diferencia es de {abs(aprox - valor_real)}\")  # Calcular la diferencia\n",
    "\n",
    "if __name__ == \"__main__\":\n",
    "    aprox_seno(n,x)\n"
   ]
  },
  {
   "cell_type": "markdown",
   "metadata": {},
   "source": [
    "***\n",
    "### 10. Diseñar una función que permita calcular una aproximación de la función arcotangente alrededor de 0 para cualquier valor x en el rango [-1, 1], utilizando los primeros n términos de la serie de Maclaurin. Nota: use math para traer la función arctan y mostrar la diferencia entre el valor real y la aproximación.\n"
   ]
  },
  {
   "cell_type": "code",
   "execution_count": null,
   "metadata": {},
   "outputs": [],
   "source": [
    "import math \n",
    "\n",
    "# Definir e inicializar variables\n",
    "x = float(input(\"Ingrese un número real: \"))\n",
    "n : int = 20\n",
    "aprox = 0\n",
    "\n",
    "# Definir función aproximación arcotangente\n",
    "def aprox_arc(n, x):\n",
    "    aprox = 0\n",
    "    for i in range(n):\n",
    "        # Definir las partes de la función\n",
    "        c = (-1) ** i\n",
    "        n = x ** (2 * i + 1)\n",
    "        d = 2 * i + 1\n",
    "        aprox += c * (n / d)  # Calcular valor aproximado usando serie de Maclaurin\n",
    "    \n",
    "    print(f\"El valor aproximado es {aprox}\")\n",
    "    \n",
    "    valor_real = math.atan(x)  # Calcular valor real de la función\n",
    "    print(\"El valor real de la función arcotangente es:\", valor_real)\n",
    "    print(f\"La diferencia es de {abs(aprox - valor_real)}\")  # Calcular la diferencia\n",
    "    \n",
    "\n",
    "\n",
    "if __name__ == \"__main__\":\n",
    "    aprox_arc(n, x)"
   ]
  },
  {
   "cell_type": "markdown",
   "metadata": {},
   "source": [
    "### Disclaimer: Para las aproximaciones de series determine con que valor n se obtiene menos del 0.1% de error.\n",
    "\n",
    "20 funciona bien para todos."
   ]
  }
 ],
 "metadata": {
  "kernelspec": {
   "display_name": "Python 3",
   "language": "python",
   "name": "python3"
  },
  "language_info": {
   "codemirror_mode": {
    "name": "ipython",
    "version": 3
   },
   "file_extension": ".py",
   "mimetype": "text/x-python",
   "name": "python",
   "nbconvert_exporter": "python",
   "pygments_lexer": "ipython3",
   "version": "3.12.2"
  }
 },
 "nbformat": 4,
 "nbformat_minor": 2
}
